{
  "nbformat": 4,
  "nbformat_minor": 0,
  "metadata": {
    "colab": {
      "name": "SentimentDetection.ipynb",
      "provenance": [],
      "collapsed_sections": []
    },
    "kernelspec": {
      "name": "python3",
      "display_name": "Python 3"
    },
    "accelerator": "GPU"
  },
  "cells": [
    {
      "cell_type": "code",
      "metadata": {
        "id": "xEVjDQ4M8CXh",
        "colab_type": "code",
        "colab": {}
      },
      "source": [
        "import tensorflow as tf\n",
        "import tensorflow_datasets as tfds"
      ],
      "execution_count": 1,
      "outputs": []
    },
    {
      "cell_type": "code",
      "metadata": {
        "id": "wW4S0YdWXQtS",
        "colab_type": "code",
        "colab": {}
      },
      "source": [
        "imdb, info = tfds.load('imdb_reviews', with_info=True, as_supervised=True)"
      ],
      "execution_count": 2,
      "outputs": []
    },
    {
      "cell_type": "code",
      "metadata": {
        "id": "_5OnIhavXkPJ",
        "colab_type": "code",
        "colab": {
          "base_uri": "https://localhost:8080/",
          "height": 105
        },
        "outputId": "087b46dc-a28f-497a-c94a-2a1b37df3073"
      },
      "source": [
        "import numpy as np\n",
        "\n",
        "train_data, test_data = imdb['train'], imdb['test']\n",
        "\n",
        "training_sentences = []\n",
        "training_labels = []\n",
        "testing_sentences = []\n",
        "testing_labels = []\n",
        "\n",
        "for sentence,label in train_data:\n",
        "  training_sentences.append(str(sentence.numpy()))\n",
        "  training_labels.append(label.numpy())\n",
        "\n",
        "for sentence, label in test_data:\n",
        "  testing_sentences.append(str(sentence.numpy()))\n",
        "  testing_labels.append(label.numpy())\n",
        "\n",
        "# Example of positive review\n",
        "print(len(training_sentences)) \n",
        "print(training_sentences[0])\n",
        "print(len(training_labels))\n",
        "print(training_labels[0])   "
      ],
      "execution_count": 3,
      "outputs": [
        {
          "output_type": "stream",
          "text": [
            "25000\n",
            "b\"This was an absolutely terrible movie. Don't be lured in by Christopher Walken or Michael Ironside. Both are great actors, but this must simply be their worst role in history. Even their great acting could not redeem this movie's ridiculous storyline. This movie is an early nineties US propaganda piece. The most pathetic scenes were those when the Columbian rebels were making their cases for revolutions. Maria Conchita Alonso appeared phony, and her pseudo-love affair with Walken was nothing but a pathetic emotional plug in a movie that was devoid of any real meaning. I am disappointed that there are movies like this, ruining actor's like Christopher Walken's good name. I could barely sit through it.\"\n",
            "25000\n",
            "0\n"
          ],
          "name": "stdout"
        }
      ]
    },
    {
      "cell_type": "code",
      "metadata": {
        "id": "3IaZgYN7ZW1r",
        "colab_type": "code",
        "colab": {
          "base_uri": "https://localhost:8080/",
          "height": 71
        },
        "outputId": "222d5264-cf8c-4316-deb4-5033221e420c"
      },
      "source": [
        "# Example of negative review\n",
        "print(training_sentences[5])\n",
        "print(training_labels[5])"
      ],
      "execution_count": 4,
      "outputs": [
        {
          "output_type": "stream",
          "text": [
            "b\"This is a film which should be seen by anybody interested in, effected by, or suffering from an eating disorder. It is an amazingly accurate and sensitive portrayal of bulimia in a teenage girl, its causes and its symptoms. The girl is played by one of the most brilliant young actresses working in cinema today, Alison Lohman, who was later so spectacular in 'Where the Truth Lies'. I would recommend that this film be shown in all schools, as you will never see a better on this subject. Alison Lohman is absolutely outstanding, and one marvels at her ability to convey the anguish of a girl suffering from this compulsive disorder. If barometers tell us the air pressure, Alison Lohman tells us the emotional pressure with the same degree of accuracy. Her emotional range is so precise, each scene could be measured microscopically for its gradations of trauma, on a scale of rising hysteria and desperation which reaches unbearable intensity. Mare Winningham is the perfect choice to play her mother, and does so with immense sympathy and a range of emotions just as finely tuned as Lohman's. Together, they make a pair of sensitive emotional oscillators vibrating in resonance with one another. This film is really an astonishing achievement, and director Katt Shea should be proud of it. The only reason for not seeing it is if you are not interested in people. But even if you like nature films best, this is after all animal behaviour at the sharp edge. Bulimia is an extreme version of how a tormented soul can destroy her own body in a frenzy of despair. And if we don't sympathise with people suffering from the depths of despair, then we are dead inside.\"\n",
            "1\n"
          ],
          "name": "stdout"
        }
      ]
    },
    {
      "cell_type": "code",
      "metadata": {
        "id": "Ge1qUa5KZsAw",
        "colab_type": "code",
        "colab": {
          "base_uri": "https://localhost:8080/",
          "height": 51
        },
        "outputId": "ef7891a3-84a8-4e94-ef7b-93b71eee48bb"
      },
      "source": [
        "# converting training and testing labels into Numpy array\n",
        "training_labels_final = np.array(training_labels)\n",
        "testing_labels_final = np.array(testing_labels)\n",
        "print(training_labels_final.shape)\n",
        "print(testing_labels_final.shape)"
      ],
      "execution_count": 5,
      "outputs": [
        {
          "output_type": "stream",
          "text": [
            "(25000,)\n",
            "(25000,)\n"
          ],
          "name": "stdout"
        }
      ]
    },
    {
      "cell_type": "code",
      "metadata": {
        "id": "eeukTqkcaOc9",
        "colab_type": "code",
        "colab": {}
      },
      "source": [
        "# Parameter definition\n",
        "vocab_size = 10000\n",
        "embedding_dim = 32\n",
        "max_length = 120\n",
        "trunc_type = 'post'\n",
        "oov_tok = '<OOV>'"
      ],
      "execution_count": 6,
      "outputs": []
    },
    {
      "cell_type": "code",
      "metadata": {
        "id": "XygXODNBhtBW",
        "colab_type": "code",
        "colab": {}
      },
      "source": [
        "from tensorflow.keras.preprocessing.text import Tokenizer\n",
        "from tensorflow.keras.preprocessing.sequence import pad_sequences\n",
        "\n",
        "tokenizer = Tokenizer(num_words = vocab_size, oov_token = oov_tok)\n",
        "# tokenize the training sentences\n",
        "tokenizer.fit_on_texts(training_sentences)\n",
        "# create the dictionary word index\n",
        "word_index = tokenizer.word_index\n",
        "# convert the sentences into list of tokens\n",
        "sequences = tokenizer.texts_to_sequences(training_sentences)\n",
        "# pad the sequences\n",
        "padded_sequences = pad_sequences(sequences, maxlen=max_length, truncating=trunc_type)"
      ],
      "execution_count": 7,
      "outputs": []
    },
    {
      "cell_type": "code",
      "metadata": {
        "id": "H2ZJ-YWZjMVK",
        "colab_type": "code",
        "colab": {
          "base_uri": "https://localhost:8080/",
          "height": 275
        },
        "outputId": "7b9913d2-7076-421d-a9b9-57ac8e63f31b"
      },
      "source": [
        "# print out the above conversions\n",
        "print('Number of words : {}'.format(len(word_index)))\n",
        "print('Length of sequences list : {}'.format(len(sequences)))\n",
        "print('Length of padded sequences : {}'.format(len(padded_sequences)))\n",
        "print('Token for word movie : {}'.format(word_index['movie']))\n",
        "print('First text in sequence : {}'.format(sequences[0]))\n",
        "print('First padded sequence : {}'.format(padded_sequences[0]))"
      ],
      "execution_count": 8,
      "outputs": [
        {
          "output_type": "stream",
          "text": [
            "Number of words : 86539\n",
            "Length of sequences list : 25000\n",
            "Length of padded sequences : 25000\n",
            "Token for word movie : 18\n",
            "First text in sequence : [59, 12, 14, 35, 439, 400, 18, 174, 29, 1, 9, 33, 1378, 3401, 42, 496, 1, 197, 25, 88, 156, 19, 12, 211, 340, 29, 70, 248, 213, 9, 486, 62, 70, 88, 116, 99, 24, 5740, 12, 3317, 657, 777, 12, 18, 7, 35, 406, 8228, 178, 2477, 426, 2, 92, 1253, 140, 72, 149, 55, 2, 1, 7525, 72, 229, 70, 2962, 16, 1, 2880, 1, 1, 1506, 4998, 3, 40, 3947, 119, 1608, 17, 3401, 14, 163, 19, 4, 1253, 927, 7986, 9, 4, 18, 13, 14, 4200, 5, 102, 148, 1237, 11, 240, 692, 13, 44, 25, 101, 39, 12, 7232, 1, 39, 1378, 1, 52, 409, 11, 99, 1214, 874, 145, 10]\n",
            "First padded sequence : [   0    0   59   12   14   35  439  400   18  174   29    1    9   33\n",
            " 1378 3401   42  496    1  197   25   88  156   19   12  211  340   29\n",
            "   70  248  213    9  486   62   70   88  116   99   24 5740   12 3317\n",
            "  657  777   12   18    7   35  406 8228  178 2477  426    2   92 1253\n",
            "  140   72  149   55    2    1 7525   72  229   70 2962   16    1 2880\n",
            "    1    1 1506 4998    3   40 3947  119 1608   17 3401   14  163   19\n",
            "    4 1253  927 7986    9    4   18   13   14 4200    5  102  148 1237\n",
            "   11  240  692   13   44   25  101   39   12 7232    1   39 1378    1\n",
            "   52  409   11   99 1214  874  145   10]\n"
          ],
          "name": "stdout"
        }
      ]
    },
    {
      "cell_type": "code",
      "metadata": {
        "id": "d5yMXczzkNc3",
        "colab_type": "code",
        "colab": {}
      },
      "source": [
        "# Convert the testing sentences to sequences as well\n",
        "testing_sequences = tokenizer.texts_to_sequences(testing_sentences)\n",
        "# padd the sequences as well\n",
        "padded_testing_sequences = pad_sequences(testing_sequences, maxlen = max_length, truncating=trunc_type)"
      ],
      "execution_count": 9,
      "outputs": []
    },
    {
      "cell_type": "code",
      "metadata": {
        "id": "rsgNJ0fFk-Gu",
        "colab_type": "code",
        "colab": {}
      },
      "source": [
        "reverse_word_index = dict([(value,key) for (key,value) in word_index.items()])"
      ],
      "execution_count": 10,
      "outputs": []
    },
    {
      "cell_type": "code",
      "metadata": {
        "id": "Qf0oQG0Tlbbt",
        "colab_type": "code",
        "colab": {}
      },
      "source": [
        "# from dictionary get the string\n",
        "def decode_review(text):\n",
        "  return ' '.join([reverse_word_index.get(i, '?') for i in text])"
      ],
      "execution_count": 11,
      "outputs": []
    },
    {
      "cell_type": "code",
      "metadata": {
        "id": "kcwztiM7l2Df",
        "colab_type": "code",
        "colab": {
          "base_uri": "https://localhost:8080/",
          "height": 71
        },
        "outputId": "3e252fa3-6733-4618-9722-11149ccf99db"
      },
      "source": [
        "# first training sentence and sentence after padding\n",
        "print('Original text : ' + training_sentences[1])\n",
        "print('Padded text : ' + decode_review(padded_sequences[1]))"
      ],
      "execution_count": 12,
      "outputs": [
        {
          "output_type": "stream",
          "text": [
            "Original text : b'I have been known to fall asleep during films, but this is usually due to a combination of things including, really tired, being warm and comfortable on the sette and having just eaten a lot. However on this occasion I fell asleep because the film was rubbish. The plot development was constant. Constantly slow and boring. Things seemed to happen, but with no explanation of what was causing them or why. I admit, I may have missed part of the film, but i watched the majority of it and everything just seemed to happen of its own accord without any real concern for anything else. I cant recommend this film at all.'\n",
            "Padded text : ? ? ? ? ? ? ? b'i have been known to fall asleep during films but this is usually due to a combination of things including really tired being warm and comfortable on the <OOV> and having just eaten a lot however on this occasion i fell asleep because the film was rubbish the plot development was constant constantly slow and boring things seemed to happen but with no explanation of what was causing them or why i admit i may have missed part of the film but i watched the majority of it and everything just seemed to happen of its own <OOV> without any real concern for anything else i cant recommend this film at all '\n"
          ],
          "name": "stdout"
        }
      ]
    },
    {
      "cell_type": "code",
      "metadata": {
        "id": "0AGncfKrmzkz",
        "colab_type": "code",
        "colab": {}
      },
      "source": [
        "# create the model\n",
        "model = tf.keras.Sequential()\n",
        "# add an Embedding layer\n",
        "model.add(tf.keras.layers.Embedding(vocab_size, embedding_dim, input_length=max_length))\n",
        "# add a bidirectional LSTM layer\n",
        "model.add(tf.keras.layers.Bidirectional(tf.keras.layers.LSTM(32)))\n",
        "# dense layer\n",
        "model.add(tf.keras.layers.Dense(6, activation='relu'))\n",
        "# add output sigmoid layer\n",
        "model.add(tf.keras.layers.Dense(1, activation='sigmoid'))"
      ],
      "execution_count": 13,
      "outputs": []
    },
    {
      "cell_type": "code",
      "metadata": {
        "id": "6bMuZlG4oNVW",
        "colab_type": "code",
        "colab": {}
      },
      "source": [
        "# compile the model\n",
        "model.compile(loss = 'binary_crossentropy', optimizer = 'adam', metrics = ['accuracy'])"
      ],
      "execution_count": 14,
      "outputs": []
    },
    {
      "cell_type": "code",
      "metadata": {
        "id": "aS7p3QaQocFH",
        "colab_type": "code",
        "colab": {
          "base_uri": "https://localhost:8080/",
          "height": 289
        },
        "outputId": "b4248a29-fbbd-4d6f-83b2-cd2bd4db04c5"
      },
      "source": [
        "# model summary\n",
        "model.summary()"
      ],
      "execution_count": 15,
      "outputs": [
        {
          "output_type": "stream",
          "text": [
            "Model: \"sequential\"\n",
            "_________________________________________________________________\n",
            "Layer (type)                 Output Shape              Param #   \n",
            "=================================================================\n",
            "embedding (Embedding)        (None, 120, 32)           320000    \n",
            "_________________________________________________________________\n",
            "bidirectional (Bidirectional (None, 64)                16640     \n",
            "_________________________________________________________________\n",
            "dense (Dense)                (None, 6)                 390       \n",
            "_________________________________________________________________\n",
            "dense_1 (Dense)              (None, 1)                 7         \n",
            "=================================================================\n",
            "Total params: 337,037\n",
            "Trainable params: 337,037\n",
            "Non-trainable params: 0\n",
            "_________________________________________________________________\n"
          ],
          "name": "stdout"
        }
      ]
    },
    {
      "cell_type": "code",
      "metadata": {
        "id": "8RoXUqfeohAZ",
        "colab_type": "code",
        "colab": {
          "base_uri": "https://localhost:8080/",
          "height": 357
        },
        "outputId": "54bda60e-eeb0-4aca-bd43-e63fa32f9ff8"
      },
      "source": [
        "# Fit the model\n",
        "history = model.fit(padded_sequences, training_labels_final, epochs=10, validation_data=(padded_testing_sequences, testing_labels_final))"
      ],
      "execution_count": 16,
      "outputs": [
        {
          "output_type": "stream",
          "text": [
            "Epoch 1/10\n",
            "782/782 [==============================] - 48s 61ms/step - loss: 0.6095 - accuracy: 0.6591 - val_loss: 0.5685 - val_accuracy: 0.6826\n",
            "Epoch 2/10\n",
            "782/782 [==============================] - 47s 60ms/step - loss: 0.6050 - accuracy: 0.6599 - val_loss: 0.6138 - val_accuracy: 0.6685\n",
            "Epoch 3/10\n",
            "782/782 [==============================] - 47s 60ms/step - loss: 0.6083 - accuracy: 0.6818 - val_loss: 0.6378 - val_accuracy: 0.6556\n",
            "Epoch 4/10\n",
            "782/782 [==============================] - 47s 60ms/step - loss: 0.5872 - accuracy: 0.6957 - val_loss: 0.5680 - val_accuracy: 0.7131\n",
            "Epoch 5/10\n",
            "782/782 [==============================] - 47s 60ms/step - loss: 0.4623 - accuracy: 0.7877 - val_loss: 0.4785 - val_accuracy: 0.7831\n",
            "Epoch 6/10\n",
            "782/782 [==============================] - 47s 60ms/step - loss: 0.3363 - accuracy: 0.8604 - val_loss: 0.4448 - val_accuracy: 0.8076\n",
            "Epoch 7/10\n",
            "782/782 [==============================] - 47s 60ms/step - loss: 0.2715 - accuracy: 0.8908 - val_loss: 0.4341 - val_accuracy: 0.8132\n",
            "Epoch 8/10\n",
            "782/782 [==============================] - 47s 60ms/step - loss: 0.2240 - accuracy: 0.9147 - val_loss: 0.5242 - val_accuracy: 0.8076\n",
            "Epoch 9/10\n",
            "782/782 [==============================] - 47s 60ms/step - loss: 0.1853 - accuracy: 0.9324 - val_loss: 0.4997 - val_accuracy: 0.8035\n",
            "Epoch 10/10\n",
            "782/782 [==============================] - 47s 60ms/step - loss: 0.1410 - accuracy: 0.9511 - val_loss: 0.5984 - val_accuracy: 0.8028\n"
          ],
          "name": "stdout"
        }
      ]
    },
    {
      "cell_type": "code",
      "metadata": {
        "id": "RvIJ4TXXs0Hl",
        "colab_type": "code",
        "colab": {
          "base_uri": "https://localhost:8080/",
          "height": 499
        },
        "outputId": "7e7ffd52-5a5e-422a-a111-f31838f7bd72"
      },
      "source": [
        "import matplotlib.pyplot as plt\n",
        "\n",
        "acc = history.history[\"accuracy\"]\n",
        "val_acc = history.history[\"val_accuracy\"]\n",
        "\n",
        "loss = history.history[\"loss\"]\n",
        "val_loss = history.history[\"val_loss\"]\n",
        "\n",
        "epochs_range = range(10)\n",
        "\n",
        "plt.figure(figsize=(8,8))\n",
        "plt.subplot(1,2,1)\n",
        "plt.plot(epochs_range,acc,label='Train Accuracy')\n",
        "plt.plot(epochs_range,val_acc,label='Validation Accuracy')\n",
        "plt.legend()\n",
        "plt.title('Accuracy')\n",
        "\n",
        "plt.subplot(1,2,2)\n",
        "plt.plot(epochs_range, loss, label='Training Loss')\n",
        "plt.plot(epochs_range, val_loss, label='Validation Loss')\n",
        "plt.legend()\n",
        "plt.title('Loss')\n",
        "\n",
        "plt.show()"
      ],
      "execution_count": 19,
      "outputs": [
        {
          "output_type": "display_data",
          "data": {
            "image/png": "[encoded data removed]",
            "text/plain": [
              "<Figure size 576x576 with 2 Axes>"
            ]
          },
          "metadata": {
            "tags": [],
            "needs_background": "light"
          }
        }
      ]
    }
  ]
}